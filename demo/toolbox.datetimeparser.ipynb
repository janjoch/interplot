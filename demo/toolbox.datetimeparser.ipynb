{
 "cells": [
  {
   "cell_type": "markdown",
   "id": "f4db5689",
   "metadata": {},
   "source": [
    "# toolbox.datetimeparser"
   ]
  },
  {
   "cell_type": "markdown",
   "id": "d5c5ad0c",
   "metadata": {},
   "source": [
    "### Import section"
   ]
  },
  {
   "cell_type": "code",
   "execution_count": 1,
   "id": "31c033a1",
   "metadata": {},
   "outputs": [],
   "source": [
    "import sys\n",
    "\n",
    "sys.path.insert(0, r\"..\")\n",
    "\n",
    "import toolbox.datetimeparser as dtp"
   ]
  },
  {
   "cell_type": "code",
   "execution_count": 2,
   "id": "56ddddbb",
   "metadata": {},
   "outputs": [],
   "source": [
    "import datetime as dt"
   ]
  },
  {
   "cell_type": "markdown",
   "id": "7499bda1",
   "metadata": {},
   "source": [
    "### tb.datetimeparser"
   ]
  },
  {
   "cell_type": "code",
   "execution_count": 3,
   "id": "faada99d",
   "metadata": {},
   "outputs": [],
   "source": [
    "# available methods:\n",
    "dtp.ymd\n",
    "dtp.dmy\n",
    "dtp.mdy\n",
    "dtp.time\n",
    "dtp.iso_tight\n",
    "\n",
    "pass"
   ]
  },
  {
   "cell_type": "code",
   "execution_count": 4,
   "id": "b9044479",
   "metadata": {},
   "outputs": [
    {
     "data": {
      "text/plain": [
       "datetime.datetime(2023, 5, 8, 14, 30, 2)"
      ]
     },
     "execution_count": 4,
     "metadata": {},
     "output_type": "execute_result"
    }
   ],
   "source": [
    "# iso timestamp\n",
    "dtp.ymd(\"2023-05-08T14:30:02Z\")"
   ]
  },
  {
   "cell_type": "code",
   "execution_count": 5,
   "id": "8b36b133",
   "metadata": {},
   "outputs": [
    {
     "data": {
      "text/plain": [
       "datetime.datetime(2023, 5, 8, 14, 30, 2)"
      ]
     },
     "execution_count": 5,
     "metadata": {},
     "output_type": "execute_result"
    }
   ],
   "source": [
    "# tight iso timestamp\n",
    "dtp.iso_tight(\"20230508T143002Z\")"
   ]
  },
  {
   "cell_type": "code",
   "execution_count": 6,
   "id": "4bdf47d9",
   "metadata": {},
   "outputs": [
    {
     "data": {
      "text/plain": [
       "datetime.datetime(2023, 12, 31, 0, 0)"
      ]
     },
     "execution_count": 6,
     "metadata": {},
     "output_type": "execute_result"
    }
   ],
   "source": [
    "# Swiss format\n",
    "dtp.dmy(\"31.12.2023\")"
   ]
  },
  {
   "cell_type": "code",
   "execution_count": 7,
   "id": "1c3b2fde",
   "metadata": {},
   "outputs": [
    {
     "data": {
      "text/plain": [
       "datetime.time(14, 30, 2)"
      ]
     },
     "execution_count": 7,
     "metadata": {},
     "output_type": "execute_result"
    }
   ],
   "source": [
    "# Swiss/ISO time format\n",
    "dtp.time(\"14:30:02\")"
   ]
  },
  {
   "cell_type": "code",
   "execution_count": 8,
   "id": "85e2e957",
   "metadata": {},
   "outputs": [
    {
     "data": {
      "text/plain": [
       "datetime.datetime(2023, 5, 8, 14, 30, 2)"
      ]
     },
     "execution_count": 8,
     "metadata": {},
     "output_type": "execute_result"
    }
   ],
   "source": [
    "# specify a date to make it a datetime.datetime object\n",
    "dtp.time(\"14:30:02\", date=dt.datetime.now())"
   ]
  },
  {
   "cell_type": "code",
   "execution_count": 9,
   "id": "50c04ab4",
   "metadata": {},
   "outputs": [
    {
     "data": {
      "text/plain": [
       "datetime.datetime(2023, 12, 31, 14, 30, 2, 123456)"
      ]
     },
     "execution_count": 9,
     "metadata": {},
     "output_type": "execute_result"
    }
   ],
   "source": [
    "# years below 100 are automatically considered as 20XX\n",
    "# override this behavior with\n",
    "dtp.AUTO_YEAR_COMPLETE = 2000\n",
    "dtp.AUTO_YEAR_THRESHOLD = 100\n",
    "dtp.dmy(\"31.12.23 14:30:02.123456\")"
   ]
  },
  {
   "cell_type": "code",
   "execution_count": 10,
   "id": "9bf8ec9f",
   "metadata": {},
   "outputs": [
    {
     "data": {
      "text/plain": [
       "datetime.datetime(2023, 12, 31, 14, 30, 2, 123456)"
      ]
     },
     "execution_count": 10,
     "metadata": {},
     "output_type": "execute_result"
    }
   ],
   "source": [
    "# if the year is omitted, specify it deliberately\n",
    "dtp.ymd(\"12-31 14:30:02.123456\", auto_year_complete=2023)"
   ]
  },
  {
   "cell_type": "code",
   "execution_count": 11,
   "id": "5ca8c788",
   "metadata": {},
   "outputs": [
    {
     "data": {
      "text/plain": [
       "datetime.datetime(2023, 12, 31, 14, 30, 2, 123000)"
      ]
     },
     "execution_count": 11,
     "metadata": {},
     "output_type": "execute_result"
    }
   ],
   "source": [
    "# parse as miliseconds instead of microseconds\n",
    "dtp.dmy(\"31.12.23 14:30:02.123\", microsecond_shift=3)"
   ]
  },
  {
   "cell_type": "code",
   "execution_count": 12,
   "id": "5619ff4f",
   "metadata": {},
   "outputs": [
    {
     "data": {
      "text/plain": [
       "datetime.datetime(1969, 7, 20, 20, 17, 40)"
      ]
     },
     "execution_count": 12,
     "metadata": {},
     "output_type": "execute_result"
    }
   ],
   "source": [
    "# works if the timestamp is padded in text\n",
    "dtp.dmy(\"The moonlanding happened on 20.07.1969 20:17:40\")"
   ]
  },
  {
   "cell_type": "code",
   "execution_count": 13,
   "id": "9f6de58f",
   "metadata": {},
   "outputs": [
    {
     "data": {
      "text/plain": [
       "datetime.datetime(2000, 12, 4, 0, 0)"
      ]
     },
     "execution_count": 13,
     "metadata": {},
     "output_type": "execute_result"
    }
   ],
   "source": [
    "# pay attention that the rest of the text doesn't contain date-like structures!\n",
    "dtp.ymd(\"Recording Nr. 12/4 started on 2023-12-31 14:30:02.123456 in Zurich\")\n",
    "# -> wrong parsing!"
   ]
  }
 ],
 "metadata": {
  "kernelspec": {
   "display_name": "Python 3 (ipykernel)",
   "language": "python",
   "name": "python3"
  },
  "language_info": {
   "codemirror_mode": {
    "name": "ipython",
    "version": 3
   },
   "file_extension": ".py",
   "mimetype": "text/x-python",
   "name": "python",
   "nbconvert_exporter": "python",
   "pygments_lexer": "ipython3",
   "version": "3.9.13"
  }
 },
 "nbformat": 4,
 "nbformat_minor": 5
}
